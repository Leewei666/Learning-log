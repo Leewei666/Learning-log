{
 "cells": [
  {
   "cell_type": "code",
   "metadata": {
    "collapsed": true,
    "pycharm": {
     "name": "#%%\n"
    }
   },
   "source": [
    "# coding=utf-8\n",
    "\n",
    "# 读取图片\n",
    "\n",
    "\n",
    "import cv2      # 导入opencv包\n",
    "\n",
    "\n",
    "img_1 = cv2.imread('picture/one.jpg',cv2.IMREAD_COLOR)\n",
    "img_2 = cv2.imread('picture/one.jpg', cv2.IMREAD_GRAYSCALE)\n",
    "\"\"\"\n",
    "imread()读取图片，第一个参数表示图片的路径，第二个参数表示读取图片的形式(彩图/灰度图像)\n",
    "cv2.IMREAD_COLOR:彩色\n",
    "cv2.IMREAD_GRAYSCALE:灰度图像\n",
    "没有第二个参数则默认读取彩图\n",
    "\"\"\"\n",
    "print(\"彩色:\\n\" , img_1)\n",
    "print(\"黑白:\\n\" , img_2)\n"
   ],
   "execution_count": 22,
   "outputs": [
    {
     "name": "stdout",
     "output_type": "stream",
     "text": [
      "彩色:\n",
      " [[[255 255 255]\n",
      "  [255 255 255]\n",
      "  [255 255 255]\n",
      "  ...\n",
      "  [255 255 255]\n",
      "  [255 255 255]\n",
      "  [255 255 255]]\n",
      "\n",
      " [[255 255 255]\n",
      "  [255 255 255]\n",
      "  [255 255 255]\n",
      "  ...\n",
      "  [255 255 255]\n",
      "  [255 255 255]\n",
      "  [255 255 255]]\n",
      "\n",
      " [[255 255 255]\n",
      "  [255 255 255]\n",
      "  [255 255 255]\n",
      "  ...\n",
      "  [255 255 255]\n",
      "  [255 255 255]\n",
      "  [255 255 255]]\n",
      "\n",
      " ...\n",
      "\n",
      " [[255 255 255]\n",
      "  [255 255 255]\n",
      "  [255 255 255]\n",
      "  ...\n",
      "  [255 255 255]\n",
      "  [255 255 255]\n",
      "  [255 255 255]]\n",
      "\n",
      " [[255 255 255]\n",
      "  [255 255 255]\n",
      "  [255 255 255]\n",
      "  ...\n",
      "  [255 255 255]\n",
      "  [255 255 255]\n",
      "  [255 255 255]]\n",
      "\n",
      " [[255 255 255]\n",
      "  [255 255 255]\n",
      "  [255 255 255]\n",
      "  ...\n",
      "  [255 255 255]\n",
      "  [255 255 255]\n",
      "  [255 255 255]]]\n",
      "黑白:\n",
      " [[255 255 255 ... 255 255 255]\n",
      " [255 255 255 ... 255 255 255]\n",
      " [255 255 255 ... 255 255 255]\n",
      " ...\n",
      " [255 255 255 ... 255 255 255]\n",
      " [255 255 255 ... 255 255 255]\n",
      " [255 255 255 ... 255 255 255]]\n"
     ]
    }
   ]
  },
  {
   "cell_type": "markdown",
   "source": [],
   "metadata": {
    "collapsed": false
   }
  },
  {
   "cell_type": "code",
   "source": [
    "import cv2\n",
    "\n",
    "\n",
    "# 使用窗口展示图片\n",
    "\n",
    "img = cv2.imread('picture/one.jpg')\n",
    "cv2.imshow('img', img)\n",
    "\"\"\"\n",
    "imshow()使用窗口显示图片，参数1是窗口的名字，是一个字符串;参数2是图片变量\n",
    "\"\"\"\n",
    "print('打开成功')\n",
    "cv2.waitKey(0)\n",
    "\"\"\"\n",
    "等待时间，毫秒级，0代表任意键终止\n",
    "\"\"\"\n",
    "cv2.destroyAllWindows()\n",
    "\"\"\"\n",
    "关闭所有窗口\n",
    "\"\"\""
   ],
   "metadata": {
    "collapsed": false,
    "pycharm": {
     "name": "#%%\n"
    }
   },
   "execution_count": 23,
   "outputs": [
    {
     "name": "stdout",
     "output_type": "stream",
     "text": [
      "打开成功\n"
     ]
    },
    {
     "data": {
      "text/plain": "'\\n关闭所有窗口\\n'"
     },
     "execution_count": 23,
     "metadata": {},
     "output_type": "execute_result"
    }
   ]
  },
  {
   "cell_type": "code",
   "execution_count": 24,
   "outputs": [],
   "source": [
    "# 上面的几段代码可以写为一个函数,方便随时调用，提高代码复用性\n",
    "\n",
    "def cv_show(name, img):\n",
    "    cv2.imread(name, img)\n",
    "    cv2.waitKey(0)\n",
    "    cv2.destroyAllWindows()"
   ],
   "metadata": {
    "collapsed": false,
    "pycharm": {
     "name": "#%%\n"
    }
   }
  },
  {
   "cell_type": "code",
   "source": [
    "import cv2\n",
    "\n",
    "\n",
    "# 查看图片属性\n",
    "\n",
    "img = cv2.imread('picture/one.jpg')\n",
    "print(img.shape)\n",
    "\"\"\"\n",
    "img.shape会得到三个图片的属性值：依次为高度height，宽度weight，颜色通道数(彩色图像有BGR三个通道，而灰度图只有亮度一个通道)\n",
    "需要注意的是在opencv中颜色是BGR而不是常见的RGB\n",
    "\"\"\""
   ],
   "metadata": {
    "collapsed": false,
    "pycharm": {
     "name": "#%%\n"
    }
   },
   "execution_count": 25,
   "outputs": [
    {
     "name": "stdout",
     "output_type": "stream",
     "text": [
      "(272, 202, 3)\n"
     ]
    },
    {
     "data": {
      "text/plain": "'\\nimg.shape会得到三个图片的属性值：依次为高度height，宽度weight，颜色通道数(彩色图像有BGR三个通道，而灰度图只有亮度一个通道)\\n需要注意的是在opencv中颜色是BGR而不是常见的RGB\\n'"
     },
     "execution_count": 25,
     "metadata": {},
     "output_type": "execute_result"
    }
   ]
  },
  {
   "cell_type": "code",
   "execution_count": 27,
   "outputs": [
    {
     "name": "stdout",
     "output_type": "stream",
     "text": [
      "True\n"
     ]
    }
   ],
   "source": [
    "import cv2\n",
    "\n",
    "\n",
    "# 保存图片\n",
    "\n",
    "img = cv2.imread('picture/one.jpg',cv2.IMREAD_GRAYSCALE)\n",
    "cv2.imwrite('picture/one_GRAYSCALE.jpg', img)\n",
    "\n",
    "\"\"\"\n",
    "imwrite()函数用来保存图片，参数1表示图片保存的绝对路径(文件夹/完整文件名),参数2表示保存的图片\n",
    "\"\"\"\n",
    "print(cv2.imwrite('picture/one_GRAYSCALE.jpg', img))\n",
    "# 此处我们可以看到如果保存成功的话会返回一个true"
   ],
   "metadata": {
    "collapsed": false,
    "pycharm": {
     "name": "#%%\n"
    }
   }
  },
  {
   "cell_type": "code",
   "execution_count": 29,
   "outputs": [
    {
     "name": "stdout",
     "output_type": "stream",
     "text": [
      "<class 'numpy.ndarray'>\n"
     ]
    }
   ],
   "source": [
    "print(type(img))\n",
    "# 使用type函数来查看img的属性：NumPy 最重要的一个特点是其 N 维数组对象 ndarray"
   ],
   "metadata": {
    "collapsed": false,
    "pycharm": {
     "name": "#%%\n"
    }
   }
  },
  {
   "cell_type": "code",
   "execution_count": 30,
   "outputs": [
    {
     "name": "stdout",
     "output_type": "stream",
     "text": [
      "54944\n"
     ]
    }
   ],
   "source": [
    "print(img.size)\n",
    "# 使用.size来计算该图片的像素值"
   ],
   "metadata": {
    "collapsed": false,
    "pycharm": {
     "name": "#%%\n"
    }
   }
  },
  {
   "cell_type": "code",
   "execution_count": 31,
   "outputs": [
    {
     "name": "stdout",
     "output_type": "stream",
     "text": [
      "uint8\n"
     ]
    }
   ],
   "source": [
    "print(img.dtype)\n",
    "# 查看该变量的数据类型"
   ],
   "metadata": {
    "collapsed": false,
    "pycharm": {
     "name": "#%%\n"
    }
   }
  }
 ],
 "metadata": {
  "kernelspec": {
   "display_name": "Python 3",
   "language": "python",
   "name": "python3"
  },
  "language_info": {
   "codemirror_mode": {
    "name": "ipython",
    "version": 2
   },
   "file_extension": ".py",
   "mimetype": "text/x-python",
   "name": "python",
   "nbconvert_exporter": "python",
   "pygments_lexer": "ipython2",
   "version": "2.7.6"
  }
 },
 "nbformat": 4,
 "nbformat_minor": 0
}